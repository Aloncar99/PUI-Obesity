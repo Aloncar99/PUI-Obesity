{
 "cells": [
  {
   "cell_type": "code",
   "execution_count": 86,
   "id": "e118d596-bf6b-48b2-a0e3-c6e1f5009f56",
   "metadata": {},
   "outputs": [],
   "source": [
    "    # Gender: Gender\n",
    "    # Age: Age\n",
    "    # Height : in metres\n",
    "    # Weight : in kgs\n",
    "    # family_history : Has a family member suffered or suffers from overweight?\n",
    "    # FAVC : Do you eat high caloric food frequently?\n",
    "    # FCVC : Do you usually eat vegetables in your meals?\n",
    "    # NCP : How many main meals do you have daily?\n",
    "    # CAEC : Do you eat any food between meals?\n",
    "    # SMOKE : Do you smoke?\n",
    "    # CH2O : How much water do you drink daily?\n",
    "    # SCC : Do you monitor the calories you eat daily?\n",
    "    # FAF: How often do you have physical activity?\n",
    "    # TUE : How much time do you use technological devices such as cell phone, videogames, television, computer and others?\n",
    "    # CALC : How often do you drink alcohol?\n",
    "    # MTRANS : Which transportation do you usually use?\n",
    "    # Obesity_level (Target Column) : Obesity level"
   ]
  },
  {
   "cell_type": "code",
   "execution_count": 115,
   "id": "9c9b151c-e34f-473f-970b-c1d5ff44bbc3",
   "metadata": {},
   "outputs": [
    {
     "data": {
      "text/html": [
       "<div>\n",
       "<style scoped>\n",
       "    .dataframe tbody tr th:only-of-type {\n",
       "        vertical-align: middle;\n",
       "    }\n",
       "\n",
       "    .dataframe tbody tr th {\n",
       "        vertical-align: top;\n",
       "    }\n",
       "\n",
       "    .dataframe thead th {\n",
       "        text-align: right;\n",
       "    }\n",
       "</style>\n",
       "<table border=\"1\" class=\"dataframe\">\n",
       "  <thead>\n",
       "    <tr style=\"text-align: right;\">\n",
       "      <th></th>\n",
       "      <th>Gender</th>\n",
       "      <th>Age</th>\n",
       "      <th>Height</th>\n",
       "      <th>Weight</th>\n",
       "      <th>family_history</th>\n",
       "      <th>FAVC</th>\n",
       "      <th>FCVC</th>\n",
       "      <th>NCP</th>\n",
       "      <th>CAEC</th>\n",
       "      <th>SMOKE</th>\n",
       "      <th>CH2O</th>\n",
       "      <th>SCC</th>\n",
       "      <th>FAF</th>\n",
       "      <th>TUE</th>\n",
       "      <th>CALC</th>\n",
       "      <th>MTRANS</th>\n",
       "      <th>Obesity</th>\n",
       "    </tr>\n",
       "  </thead>\n",
       "  <tbody>\n",
       "    <tr>\n",
       "      <th>0</th>\n",
       "      <td>Female</td>\n",
       "      <td>21.0</td>\n",
       "      <td>1.62</td>\n",
       "      <td>64.0</td>\n",
       "      <td>yes</td>\n",
       "      <td>no</td>\n",
       "      <td>2.0</td>\n",
       "      <td>3.0</td>\n",
       "      <td>Sometimes</td>\n",
       "      <td>no</td>\n",
       "      <td>2.0</td>\n",
       "      <td>no</td>\n",
       "      <td>0.0</td>\n",
       "      <td>1.0</td>\n",
       "      <td>no</td>\n",
       "      <td>Public_Transportation</td>\n",
       "      <td>Normal_Weight</td>\n",
       "    </tr>\n",
       "    <tr>\n",
       "      <th>1</th>\n",
       "      <td>Female</td>\n",
       "      <td>21.0</td>\n",
       "      <td>1.52</td>\n",
       "      <td>56.0</td>\n",
       "      <td>yes</td>\n",
       "      <td>no</td>\n",
       "      <td>3.0</td>\n",
       "      <td>3.0</td>\n",
       "      <td>Sometimes</td>\n",
       "      <td>yes</td>\n",
       "      <td>3.0</td>\n",
       "      <td>yes</td>\n",
       "      <td>3.0</td>\n",
       "      <td>0.0</td>\n",
       "      <td>Sometimes</td>\n",
       "      <td>Public_Transportation</td>\n",
       "      <td>Normal_Weight</td>\n",
       "    </tr>\n",
       "    <tr>\n",
       "      <th>2</th>\n",
       "      <td>Male</td>\n",
       "      <td>23.0</td>\n",
       "      <td>1.80</td>\n",
       "      <td>77.0</td>\n",
       "      <td>yes</td>\n",
       "      <td>no</td>\n",
       "      <td>2.0</td>\n",
       "      <td>3.0</td>\n",
       "      <td>Sometimes</td>\n",
       "      <td>no</td>\n",
       "      <td>2.0</td>\n",
       "      <td>no</td>\n",
       "      <td>2.0</td>\n",
       "      <td>1.0</td>\n",
       "      <td>Frequently</td>\n",
       "      <td>Public_Transportation</td>\n",
       "      <td>Normal_Weight</td>\n",
       "    </tr>\n",
       "    <tr>\n",
       "      <th>3</th>\n",
       "      <td>Male</td>\n",
       "      <td>27.0</td>\n",
       "      <td>1.80</td>\n",
       "      <td>87.0</td>\n",
       "      <td>no</td>\n",
       "      <td>no</td>\n",
       "      <td>3.0</td>\n",
       "      <td>3.0</td>\n",
       "      <td>Sometimes</td>\n",
       "      <td>no</td>\n",
       "      <td>2.0</td>\n",
       "      <td>no</td>\n",
       "      <td>2.0</td>\n",
       "      <td>0.0</td>\n",
       "      <td>Frequently</td>\n",
       "      <td>Walking</td>\n",
       "      <td>Overweight_Level_I</td>\n",
       "    </tr>\n",
       "    <tr>\n",
       "      <th>4</th>\n",
       "      <td>Male</td>\n",
       "      <td>22.0</td>\n",
       "      <td>1.78</td>\n",
       "      <td>89.8</td>\n",
       "      <td>no</td>\n",
       "      <td>no</td>\n",
       "      <td>2.0</td>\n",
       "      <td>1.0</td>\n",
       "      <td>Sometimes</td>\n",
       "      <td>no</td>\n",
       "      <td>2.0</td>\n",
       "      <td>no</td>\n",
       "      <td>0.0</td>\n",
       "      <td>0.0</td>\n",
       "      <td>Sometimes</td>\n",
       "      <td>Public_Transportation</td>\n",
       "      <td>Overweight_Level_II</td>\n",
       "    </tr>\n",
       "  </tbody>\n",
       "</table>\n",
       "</div>"
      ],
      "text/plain": [
       "   Gender   Age  Height  Weight family_history FAVC  FCVC  NCP       CAEC  \\\n",
       "0  Female  21.0    1.62    64.0            yes   no   2.0  3.0  Sometimes   \n",
       "1  Female  21.0    1.52    56.0            yes   no   3.0  3.0  Sometimes   \n",
       "2    Male  23.0    1.80    77.0            yes   no   2.0  3.0  Sometimes   \n",
       "3    Male  27.0    1.80    87.0             no   no   3.0  3.0  Sometimes   \n",
       "4    Male  22.0    1.78    89.8             no   no   2.0  1.0  Sometimes   \n",
       "\n",
       "  SMOKE  CH2O  SCC  FAF  TUE        CALC                 MTRANS  \\\n",
       "0    no   2.0   no  0.0  1.0          no  Public_Transportation   \n",
       "1   yes   3.0  yes  3.0  0.0   Sometimes  Public_Transportation   \n",
       "2    no   2.0   no  2.0  1.0  Frequently  Public_Transportation   \n",
       "3    no   2.0   no  2.0  0.0  Frequently                Walking   \n",
       "4    no   2.0   no  0.0  0.0   Sometimes  Public_Transportation   \n",
       "\n",
       "               Obesity  \n",
       "0        Normal_Weight  \n",
       "1        Normal_Weight  \n",
       "2        Normal_Weight  \n",
       "3   Overweight_Level_I  \n",
       "4  Overweight_Level_II  "
      ]
     },
     "execution_count": 115,
     "metadata": {},
     "output_type": "execute_result"
    }
   ],
   "source": [
    "import pandas as pd\n",
    "podaci = pd.read_csv('Obesity.csv')\n",
    "podaci.head()"
   ]
  },
  {
   "cell_type": "code",
   "execution_count": 116,
   "id": "5fb1b0a2-91f6-434b-a279-19994e6d08dd",
   "metadata": {},
   "outputs": [
    {
     "name": "stdout",
     "output_type": "stream",
     "text": [
      "\n",
      "Sve klase u stupcu 'Obesity':\n",
      "Obesity\n",
      "Obesity_Type_I         351\n",
      "Obesity_Type_III       324\n",
      "Obesity_Type_II        297\n",
      "Overweight_Level_I     290\n",
      "Overweight_Level_II    290\n",
      "Normal_Weight          287\n",
      "Insufficient_Weight    272\n",
      "Name: count, dtype: int64\n"
     ]
    }
   ],
   "source": [
    "print(\"\\nSve klase u stupcu 'Obesity':\")\n",
    "print(podaci['Obesity'].value_counts())"
   ]
  },
  {
   "cell_type": "code",
   "execution_count": 117,
   "id": "9008004d-fdd4-450a-a1a3-871098ee01b7",
   "metadata": {},
   "outputs": [
    {
     "name": "stdout",
     "output_type": "stream",
     "text": [
      "Pretilo\n",
      "0    1139\n",
      "1     972\n",
      "Name: count, dtype: int64\n"
     ]
    }
   ],
   "source": [
    "# Dodavanje novog stupca\n",
    "podaci['Pretilo'] = podaci['Obesity'].str.contains('Obesity').astype(int)\n",
    "\n",
    "print(podaci['Pretilo'].value_counts())\n"
   ]
  },
  {
   "cell_type": "code",
   "execution_count": 118,
   "id": "743ca460-27d1-453d-b8d3-de57bf655ad0",
   "metadata": {},
   "outputs": [
    {
     "name": "stdout",
     "output_type": "stream",
     "text": [
      "Gender             object\n",
      "Age               float64\n",
      "Height            float64\n",
      "Weight            float64\n",
      "family_history     object\n",
      "FAVC               object\n",
      "FCVC              float64\n",
      "NCP               float64\n",
      "CAEC               object\n",
      "SMOKE              object\n",
      "CH2O              float64\n",
      "SCC                object\n",
      "FAF               float64\n",
      "TUE               float64\n",
      "CALC               object\n",
      "MTRANS             object\n",
      "Obesity            object\n",
      "Pretilo             int64\n",
      "dtype: object\n"
     ]
    }
   ],
   "source": [
    "print(podaci.dtypes)"
   ]
  },
  {
   "cell_type": "code",
   "execution_count": 119,
   "id": "357eb1ca-8124-4520-9fbd-c487815b0c8e",
   "metadata": {},
   "outputs": [],
   "source": [
    "kategorijske_kolone = ['Gender', 'family_history', 'FAVC', 'CAEC', 'SMOKE', 'SCC', 'CALC', 'MTRANS']\n",
    "\n",
    "podaci = pd.get_dummies(podaci, columns=kategorijske_kolone, drop_first=True)"
   ]
  },
  {
   "cell_type": "code",
   "execution_count": 120,
   "id": "f42a5b2c-1b7d-4d76-87e7-2d4f53d630a0",
   "metadata": {},
   "outputs": [
    {
     "name": "stdout",
     "output_type": "stream",
     "text": [
      "    Age  Height  Weight  FCVC  NCP  CH2O  FAF  TUE              Obesity  \\\n",
      "0  21.0    1.62    64.0   2.0  3.0   2.0  0.0  1.0        Normal_Weight   \n",
      "1  21.0    1.52    56.0   3.0  3.0   3.0  3.0  0.0        Normal_Weight   \n",
      "2  23.0    1.80    77.0   2.0  3.0   2.0  2.0  1.0        Normal_Weight   \n",
      "3  27.0    1.80    87.0   3.0  3.0   2.0  2.0  0.0   Overweight_Level_I   \n",
      "4  22.0    1.78    89.8   2.0  1.0   2.0  0.0  0.0  Overweight_Level_II   \n",
      "\n",
      "   Pretilo  ...  CAEC_no  SMOKE_yes  SCC_yes  CALC_Frequently  CALC_Sometimes  \\\n",
      "0        0  ...    False      False    False            False           False   \n",
      "1        0  ...    False       True     True            False            True   \n",
      "2        0  ...    False      False    False             True           False   \n",
      "3        0  ...    False      False    False             True           False   \n",
      "4        0  ...    False      False    False            False            True   \n",
      "\n",
      "   CALC_no  MTRANS_Bike  MTRANS_Motorbike  MTRANS_Public_Transportation  \\\n",
      "0     True        False             False                          True   \n",
      "1    False        False             False                          True   \n",
      "2    False        False             False                          True   \n",
      "3    False        False             False                         False   \n",
      "4    False        False             False                          True   \n",
      "\n",
      "   MTRANS_Walking  \n",
      "0           False  \n",
      "1           False  \n",
      "2           False  \n",
      "3            True  \n",
      "4           False  \n",
      "\n",
      "[5 rows x 25 columns]\n"
     ]
    }
   ],
   "source": [
    "print(podaci.head())"
   ]
  },
  {
   "cell_type": "code",
   "execution_count": 121,
   "id": "19833736-4835-4133-b4a3-2eab11ef0bc7",
   "metadata": {},
   "outputs": [
    {
     "name": "stdout",
     "output_type": "stream",
     "text": [
      "Age                             float64\n",
      "Height                          float64\n",
      "Weight                          float64\n",
      "FCVC                            float64\n",
      "NCP                             float64\n",
      "CH2O                            float64\n",
      "FAF                             float64\n",
      "TUE                             float64\n",
      "Obesity                          object\n",
      "Pretilo                           int64\n",
      "Gender_Male                        bool\n",
      "family_history_yes                 bool\n",
      "FAVC_yes                           bool\n",
      "CAEC_Frequently                    bool\n",
      "CAEC_Sometimes                     bool\n",
      "CAEC_no                            bool\n",
      "SMOKE_yes                          bool\n",
      "SCC_yes                            bool\n",
      "CALC_Frequently                    bool\n",
      "CALC_Sometimes                     bool\n",
      "CALC_no                            bool\n",
      "MTRANS_Bike                        bool\n",
      "MTRANS_Motorbike                   bool\n",
      "MTRANS_Public_Transportation       bool\n",
      "MTRANS_Walking                     bool\n",
      "dtype: object\n"
     ]
    }
   ],
   "source": [
    "print(podaci.dtypes)"
   ]
  },
  {
   "cell_type": "code",
   "execution_count": 122,
   "id": "240ae3c6-116a-495f-bb67-d379fc4067ff",
   "metadata": {},
   "outputs": [],
   "source": [
    "X = podaci.drop(columns=['Obesity', 'Pretilo'])\n",
    "y = podaci['Pretilo']"
   ]
  },
  {
   "cell_type": "code",
   "execution_count": 123,
   "id": "6231a0d9-a9cc-4f8e-b488-f3099917fc9b",
   "metadata": {},
   "outputs": [
    {
     "data": {
      "text/html": [
       "<div>\n",
       "<style scoped>\n",
       "    .dataframe tbody tr th:only-of-type {\n",
       "        vertical-align: middle;\n",
       "    }\n",
       "\n",
       "    .dataframe tbody tr th {\n",
       "        vertical-align: top;\n",
       "    }\n",
       "\n",
       "    .dataframe thead th {\n",
       "        text-align: right;\n",
       "    }\n",
       "</style>\n",
       "<table border=\"1\" class=\"dataframe\">\n",
       "  <thead>\n",
       "    <tr style=\"text-align: right;\">\n",
       "      <th></th>\n",
       "      <th>Age</th>\n",
       "      <th>Height</th>\n",
       "      <th>Weight</th>\n",
       "      <th>FCVC</th>\n",
       "      <th>NCP</th>\n",
       "      <th>CH2O</th>\n",
       "      <th>FAF</th>\n",
       "      <th>TUE</th>\n",
       "      <th>Gender_Male</th>\n",
       "      <th>family_history_yes</th>\n",
       "      <th>...</th>\n",
       "      <th>CAEC_no</th>\n",
       "      <th>SMOKE_yes</th>\n",
       "      <th>SCC_yes</th>\n",
       "      <th>CALC_Frequently</th>\n",
       "      <th>CALC_Sometimes</th>\n",
       "      <th>CALC_no</th>\n",
       "      <th>MTRANS_Bike</th>\n",
       "      <th>MTRANS_Motorbike</th>\n",
       "      <th>MTRANS_Public_Transportation</th>\n",
       "      <th>MTRANS_Walking</th>\n",
       "    </tr>\n",
       "  </thead>\n",
       "  <tbody>\n",
       "    <tr>\n",
       "      <th>162</th>\n",
       "      <td>21.000000</td>\n",
       "      <td>1.630000</td>\n",
       "      <td>60.000000</td>\n",
       "      <td>3.000000</td>\n",
       "      <td>3.000000</td>\n",
       "      <td>2.000000</td>\n",
       "      <td>2.000000</td>\n",
       "      <td>0.000000</td>\n",
       "      <td>False</td>\n",
       "      <td>True</td>\n",
       "      <td>...</td>\n",
       "      <td>False</td>\n",
       "      <td>True</td>\n",
       "      <td>False</td>\n",
       "      <td>False</td>\n",
       "      <td>True</td>\n",
       "      <td>False</td>\n",
       "      <td>False</td>\n",
       "      <td>False</td>\n",
       "      <td>True</td>\n",
       "      <td>False</td>\n",
       "    </tr>\n",
       "    <tr>\n",
       "      <th>2001</th>\n",
       "      <td>20.924956</td>\n",
       "      <td>1.752531</td>\n",
       "      <td>133.618706</td>\n",
       "      <td>3.000000</td>\n",
       "      <td>3.000000</td>\n",
       "      <td>2.887659</td>\n",
       "      <td>1.480919</td>\n",
       "      <td>0.779641</td>\n",
       "      <td>False</td>\n",
       "      <td>True</td>\n",
       "      <td>...</td>\n",
       "      <td>False</td>\n",
       "      <td>False</td>\n",
       "      <td>False</td>\n",
       "      <td>False</td>\n",
       "      <td>True</td>\n",
       "      <td>False</td>\n",
       "      <td>False</td>\n",
       "      <td>False</td>\n",
       "      <td>True</td>\n",
       "      <td>False</td>\n",
       "    </tr>\n",
       "    <tr>\n",
       "      <th>1435</th>\n",
       "      <td>22.899740</td>\n",
       "      <td>1.661715</td>\n",
       "      <td>82.595793</td>\n",
       "      <td>1.203754</td>\n",
       "      <td>1.355354</td>\n",
       "      <td>2.765593</td>\n",
       "      <td>0.128342</td>\n",
       "      <td>1.659476</td>\n",
       "      <td>False</td>\n",
       "      <td>True</td>\n",
       "      <td>...</td>\n",
       "      <td>False</td>\n",
       "      <td>False</td>\n",
       "      <td>False</td>\n",
       "      <td>False</td>\n",
       "      <td>True</td>\n",
       "      <td>False</td>\n",
       "      <td>False</td>\n",
       "      <td>False</td>\n",
       "      <td>True</td>\n",
       "      <td>False</td>\n",
       "    </tr>\n",
       "    <tr>\n",
       "      <th>649</th>\n",
       "      <td>21.837996</td>\n",
       "      <td>1.588046</td>\n",
       "      <td>44.236067</td>\n",
       "      <td>3.000000</td>\n",
       "      <td>1.696080</td>\n",
       "      <td>2.550307</td>\n",
       "      <td>1.098862</td>\n",
       "      <td>0.000000</td>\n",
       "      <td>False</td>\n",
       "      <td>False</td>\n",
       "      <td>...</td>\n",
       "      <td>False</td>\n",
       "      <td>False</td>\n",
       "      <td>False</td>\n",
       "      <td>False</td>\n",
       "      <td>False</td>\n",
       "      <td>True</td>\n",
       "      <td>False</td>\n",
       "      <td>False</td>\n",
       "      <td>True</td>\n",
       "      <td>False</td>\n",
       "    </tr>\n",
       "    <tr>\n",
       "      <th>1280</th>\n",
       "      <td>25.994746</td>\n",
       "      <td>1.811602</td>\n",
       "      <td>106.042142</td>\n",
       "      <td>3.000000</td>\n",
       "      <td>3.000000</td>\n",
       "      <td>2.858171</td>\n",
       "      <td>1.813318</td>\n",
       "      <td>0.680215</td>\n",
       "      <td>True</td>\n",
       "      <td>True</td>\n",
       "      <td>...</td>\n",
       "      <td>False</td>\n",
       "      <td>False</td>\n",
       "      <td>False</td>\n",
       "      <td>False</td>\n",
       "      <td>True</td>\n",
       "      <td>False</td>\n",
       "      <td>False</td>\n",
       "      <td>False</td>\n",
       "      <td>True</td>\n",
       "      <td>False</td>\n",
       "    </tr>\n",
       "  </tbody>\n",
       "</table>\n",
       "<p>5 rows × 23 columns</p>\n",
       "</div>"
      ],
      "text/plain": [
       "            Age    Height      Weight      FCVC       NCP      CH2O       FAF  \\\n",
       "162   21.000000  1.630000   60.000000  3.000000  3.000000  2.000000  2.000000   \n",
       "2001  20.924956  1.752531  133.618706  3.000000  3.000000  2.887659  1.480919   \n",
       "1435  22.899740  1.661715   82.595793  1.203754  1.355354  2.765593  0.128342   \n",
       "649   21.837996  1.588046   44.236067  3.000000  1.696080  2.550307  1.098862   \n",
       "1280  25.994746  1.811602  106.042142  3.000000  3.000000  2.858171  1.813318   \n",
       "\n",
       "           TUE  Gender_Male  family_history_yes  ...  CAEC_no  SMOKE_yes  \\\n",
       "162   0.000000        False                True  ...    False       True   \n",
       "2001  0.779641        False                True  ...    False      False   \n",
       "1435  1.659476        False                True  ...    False      False   \n",
       "649   0.000000        False               False  ...    False      False   \n",
       "1280  0.680215         True                True  ...    False      False   \n",
       "\n",
       "      SCC_yes  CALC_Frequently  CALC_Sometimes  CALC_no  MTRANS_Bike  \\\n",
       "162     False            False            True    False        False   \n",
       "2001    False            False            True    False        False   \n",
       "1435    False            False            True    False        False   \n",
       "649     False            False           False     True        False   \n",
       "1280    False            False            True    False        False   \n",
       "\n",
       "      MTRANS_Motorbike  MTRANS_Public_Transportation  MTRANS_Walking  \n",
       "162              False                          True           False  \n",
       "2001             False                          True           False  \n",
       "1435             False                          True           False  \n",
       "649              False                          True           False  \n",
       "1280             False                          True           False  \n",
       "\n",
       "[5 rows x 23 columns]"
      ]
     },
     "execution_count": 123,
     "metadata": {},
     "output_type": "execute_result"
    }
   ],
   "source": [
    "from sklearn.model_selection import train_test_split\n",
    "X_train, X_test, y_train, y_test = train_test_split(X, y, train_size=0.80, random_state=42)\n",
    "X_train.head()"
   ]
  },
  {
   "cell_type": "code",
   "execution_count": 124,
   "id": "cb49582c-f634-4911-bbc0-c0db39f58545",
   "metadata": {},
   "outputs": [],
   "source": [
    "# Skaliranje MinMax\n",
    "from sklearn.preprocessing import MinMaxScaler\n",
    "\n",
    "scaler = MinMaxScaler()\n",
    "scaler.fit(X_train)\n",
    "\n",
    "X_train_scaled = scaler.transform(X_train)\n",
    "X_test_scaled = scaler.transform(X_test)\n",
    "\n",
    "X_train_scaled = pd.DataFrame(X_train_scaled, columns=X_train.columns, index=X_train.index)\n",
    "X_test_scaled = pd.DataFrame(X_test_scaled, columns=X_test.columns, index=X_test.index)\n"
   ]
  },
  {
   "cell_type": "code",
   "execution_count": 125,
   "id": "2accfc19-8c0c-450d-95c6-de5c7ae8f141",
   "metadata": {},
   "outputs": [
    {
     "name": "stdout",
     "output_type": "stream",
     "text": [
      "Točnost: 98.35%\n"
     ]
    },
    {
     "data": {
      "image/png": "[encoded data removed]",
      "text/plain": [
       "<Figure size 600x400 with 1 Axes>"
      ]
     },
     "metadata": {},
     "output_type": "display_data"
    },
    {
     "name": "stdout",
     "output_type": "stream",
     "text": [
      "Točnost: 98.35%\n"
     ]
    },
    {
     "data": {
      "image/png": "[encoded data removed]",
      "text/plain": [
       "<Figure size 600x400 with 1 Axes>"
      ]
     },
     "metadata": {},
     "output_type": "display_data"
    }
   ],
   "source": [
    "from sklearn.ensemble import RandomForestClassifier\n",
    "from sklearn.metrics import accuracy_score, confusion_matrix, classification_report\n",
    "import seaborn as sns\n",
    "import matplotlib.pyplot as plt\n",
    "from sklearn.preprocessing import MinMaxScaler\n",
    "\n",
    "# 1. RandomForest - Bez skaliranja\n",
    "rf_model = RandomForestClassifier(n_estimators=100, random_state=42)\n",
    "rf_model.fit(X_train, y_train)\n",
    "y_pred_rf = rf_model.predict(X_test)\n",
    "\n",
    "print(f\"Točnost: {accuracy_score(y_test, y_pred_rf):.2%}\")\n",
    "\n",
    "# Konfuzijska matrica\n",
    "plt.figure(figsize=(6,4))\n",
    "sns.heatmap(confusion_matrix(y_test, y_pred_rf), annot=True, fmt='d', cmap='Blues', cbar=False)\n",
    "plt.title(\"Random Forest (bez skaliranja) - Konfuzijska matrica\")\n",
    "plt.xlabel('Predviđeno')\n",
    "plt.ylabel('Stvarno')\n",
    "plt.show()\n",
    "\n",
    "# 2. RandomForest - Sa skaliranjem\n",
    "scaler = MinMaxScaler()\n",
    "X_train_scaled = scaler.fit_transform(X_train)\n",
    "X_test_scaled = scaler.transform(X_test)\n",
    "\n",
    "rf_model_scaled = RandomForestClassifier(n_estimators=100, random_state=42)\n",
    "rf_model_scaled.fit(X_train_scaled, y_train)\n",
    "y_pred_rf_scaled = rf_model_scaled.predict(X_test_scaled)\n",
    "\n",
    "print(f\"Točnost: {accuracy_score(y_test, y_pred_rf_scaled):.2%}\")\n",
    "\n",
    "# Konfuzijska matrica\n",
    "plt.figure(figsize=(6,4))\n",
    "sns.heatmap(confusion_matrix(y_test, y_pred_rf_scaled), annot=True, fmt='d', cmap='Blues', cbar=False)\n",
    "plt.title(\"Random Forest (sa skaliranjem) - Konfuzijska matrica\")\n",
    "plt.xlabel('Predviđeno')\n",
    "plt.ylabel('Stvarno')\n",
    "plt.show()"
   ]
  },
  {
   "cell_type": "code",
   "execution_count": 126,
   "id": "77acfe40-8b00-4359-af2f-09a1ad34a2f3",
   "metadata": {},
   "outputs": [
    {
     "name": "stdout",
     "output_type": "stream",
     "text": [
      "XGBoost (bez skaliranja) - Točnost: 99.53%\n"
     ]
    },
    {
     "data": {
      "image/png": "[encoded data removed]",
      "text/plain": [
       "<Figure size 600x400 with 1 Axes>"
      ]
     },
     "metadata": {},
     "output_type": "display_data"
    },
    {
     "name": "stdout",
     "output_type": "stream",
     "text": [
      "\n",
      "XGBoost (sa skaliranjem) - Točnost: 99.53%\n"
     ]
    },
    {
     "data": {
      "image/png": "[encoded data removed]",
      "text/plain": [
       "<Figure size 600x400 with 1 Axes>"
      ]
     },
     "metadata": {},
     "output_type": "display_data"
    }
   ],
   "source": [
    "import xgboost as xgb\n",
    "from sklearn.metrics import accuracy_score, confusion_matrix\n",
    "import seaborn as sns\n",
    "import matplotlib.pyplot as plt\n",
    "\n",
    "# 1. xgboost - Bez skaliranjem\n",
    "# Konverzija u DMatrix bez skaliranja\n",
    "dtrain = xgb.DMatrix(X_train, label=y_train)\n",
    "dtest = xgb.DMatrix(X_test, label=y_test)\n",
    "\n",
    "# Parametri\n",
    "params = {\n",
    "    'objective': 'binary:logistic',\n",
    "    'max_depth': 3,\n",
    "    'eta': 0.3,\n",
    "    'subsample': 0.8,\n",
    "    'colsample_bytree': 0.8,\n",
    "    'seed': 42\n",
    "}\n",
    "\n",
    "# Treniranje\n",
    "num_rounds = 100\n",
    "xgb_model = xgb.train(params, dtrain, num_rounds)\n",
    "\n",
    "# Predikcija\n",
    "y_pred_proba = xgb_model.predict(dtest)\n",
    "y_pred = [1 if p > 0.5 else 0 for p in y_pred_proba]\n",
    "\n",
    "# Točnost i konfuzijska matrica\n",
    "print(f\"XGBoost (bez skaliranja) - Točnost: {accuracy_score(y_test, y_pred):.2%}\")\n",
    "\n",
    "plt.figure(figsize=(6,4))\n",
    "sns.heatmap(confusion_matrix(y_test, y_pred), annot=True, fmt='d', cmap='Blues', cbar=False)\n",
    "plt.title(\"XGBoost (bez skaliranja) - Konfuzijska matrica\")\n",
    "plt.xlabel('Predviđeno')\n",
    "plt.ylabel('Stvarno')\n",
    "plt.show()\n",
    "\n",
    "# 2. xgboost - sa skaliranjem\n",
    "\n",
    "# Konverzija u DMatrix sa skaliranim podacima\n",
    "dtrain_scaled = xgb.DMatrix(X_train_scaled, label=y_train)\n",
    "dtest_scaled = xgb.DMatrix(X_test_scaled, label=y_test)\n",
    "\n",
    "# Treniranje\n",
    "xgb_model_scaled = xgb.train(params, dtrain_scaled, num_rounds)\n",
    "\n",
    "# Predikcija\n",
    "y_pred_proba_scaled = xgb_model_scaled.predict(dtest_scaled)\n",
    "y_pred_scaled = [1 if p > 0.5 else 0 for p in y_pred_proba_scaled]\n",
    "\n",
    "# Točnost i konfuzijska matrica\n",
    "print(f\"\\nXGBoost (sa skaliranjem) - Točnost: {accuracy_score(y_test, y_pred_scaled):.2%}\")\n",
    "\n",
    "plt.figure(figsize=(6,4))\n",
    "sns.heatmap(confusion_matrix(y_test, y_pred_scaled), annot=True, fmt='d', cmap='Blues', cbar=False)\n",
    "plt.title(\"XGBoost (sa skaliranjem) - Konfuzijska matrica\")\n",
    "plt.xlabel('Predviđeno')\n",
    "plt.ylabel('Stvarno')\n",
    "plt.show()\n"
   ]
  },
  {
   "cell_type": "code",
   "execution_count": 127,
   "id": "1231778e-e02a-45e4-8bb2-4a362430bd08",
   "metadata": {},
   "outputs": [
    {
     "name": "stdout",
     "output_type": "stream",
     "text": [
      "Točnost: 98.58%\n"
     ]
    },
    {
     "data": {
      "image/png": "[encoded data removed]",
      "text/plain": [
       "<Figure size 600x400 with 1 Axes>"
      ]
     },
     "metadata": {},
     "output_type": "display_data"
    },
    {
     "name": "stdout",
     "output_type": "stream",
     "text": [
      "Točnost: 93.14%\n"
     ]
    },
    {
     "data": {
      "image/png": "[encoded data removed]",
      "text/plain": [
       "<Figure size 600x400 with 1 Axes>"
      ]
     },
     "metadata": {},
     "output_type": "display_data"
    }
   ],
   "source": [
    "from sklearn.neighbors import KNeighborsClassifier\n",
    "\n",
    "# 1. k-NN - Bez skaliranja\n",
    "knn_model = KNeighborsClassifier(n_neighbors=5)\n",
    "knn_model.fit(X_train, y_train)\n",
    "y_pred_knn = knn_model.predict(X_test)\n",
    "\n",
    "print(f\"Točnost: {accuracy_score(y_test, y_pred_knn):.2%}\")\n",
    "\n",
    "plt.figure(figsize=(6,4))\n",
    "sns.heatmap(confusion_matrix(y_test, y_pred_knn), annot=True, fmt='d', cmap='Blues', cbar=False)\n",
    "plt.title(\"k-NN (bez skaliranja) - Konfuzijska matrica\")\n",
    "plt.xlabel('Predviđeno')\n",
    "plt.ylabel('Stvarno')\n",
    "plt.show()\n",
    "\n",
    "# 2. k-NN - Sa skaliranjem\n",
    "knn_model_scaled = KNeighborsClassifier(n_neighbors=5)\n",
    "knn_model_scaled.fit(X_train_scaled, y_train)\n",
    "y_pred_knn_scaled = knn_model_scaled.predict(X_test_scaled)\n",
    "\n",
    "print(f\"Točnost: {accuracy_score(y_test, y_pred_knn_scaled):.2%}\")\n",
    "\n",
    "plt.figure(figsize=(6,4))\n",
    "sns.heatmap(confusion_matrix(y_test, y_pred_knn_scaled), annot=True, fmt='d', cmap='Blues', cbar=False)\n",
    "plt.title(\"k-NN (sa skaliranjem) - Konfuzijska matrica\")\n",
    "plt.xlabel('Predviđeno')\n",
    "plt.ylabel('Stvarno')\n",
    "plt.show()\n"
   ]
  },
  {
   "cell_type": "code",
   "execution_count": 128,
   "id": "5f9f8f6d-2b80-4eb0-925d-6b73496fd143",
   "metadata": {},
   "outputs": [
    {
     "name": "stdout",
     "output_type": "stream",
     "text": [
      "Točnost: 96.93%\n"
     ]
    },
    {
     "data": {
      "image/png": "[encoded data removed]",
      "text/plain": [
       "<Figure size 600x400 with 1 Axes>"
      ]
     },
     "metadata": {},
     "output_type": "display_data"
    },
    {
     "name": "stdout",
     "output_type": "stream",
     "text": [
      "Točnost: 97.87%\n"
     ]
    },
    {
     "data": {
      "image/png": "[encoded data removed]",
      "text/plain": [
       "<Figure size 600x400 with 1 Axes>"
      ]
     },
     "metadata": {},
     "output_type": "display_data"
    }
   ],
   "source": [
    "from sklearn.linear_model import LogisticRegression\n",
    "\n",
    "# 1. Logistic Regression - Bez skaliranja\n",
    "lr_model = LogisticRegression(max_iter=1000)\n",
    "lr_model.fit(X_train, y_train)\n",
    "y_pred_lr = lr_model.predict(X_test)\n",
    "\n",
    "print(f\"Točnost: {accuracy_score(y_test, y_pred_lr):.2%}\")\n",
    "\n",
    "plt.figure(figsize=(6,4))\n",
    "sns.heatmap(confusion_matrix(y_test, y_pred_lr), annot=True, fmt='d', cmap='Blues', cbar=False)\n",
    "plt.title(\"Logistička regresija (bez skaliranja) - Konfuzijska matrica\")\n",
    "plt.xlabel('Predviđeno')\n",
    "plt.ylabel('Stvarno')\n",
    "plt.show()\n",
    "\n",
    "# 2. Logistic Regression - Sa skaliranjem\n",
    "lr_model_scaled = LogisticRegression(max_iter=1000)\n",
    "lr_model_scaled.fit(X_train_scaled, y_train)\n",
    "y_pred_lr_scaled = lr_model_scaled.predict(X_test_scaled)\n",
    "\n",
    "print(f\"Točnost: {accuracy_score(y_test, y_pred_lr_scaled):.2%}\")\n",
    "\n",
    "plt.figure(figsize=(6,4))\n",
    "sns.heatmap(confusion_matrix(y_test, y_pred_lr_scaled), annot=True, fmt='d', cmap='Blues', cbar=False)\n",
    "plt.title(\"Logistička regresija (sa skaliranjem) - Konfuzijska matrica\")\n",
    "plt.xlabel('Predviđeno')\n",
    "plt.ylabel('Stvarno')\n",
    "plt.show()\n"
   ]
  },
  {
   "cell_type": "code",
   "execution_count": 129,
   "id": "848c81e9-39c3-49ca-a8ac-656731bc919b",
   "metadata": {},
   "outputs": [],
   "source": [
    "# NEURONSKE MREŽE"
   ]
  },
  {
   "cell_type": "code",
   "execution_count": 130,
   "id": "82620441-b12e-4e35-b483-b88d6556a96a",
   "metadata": {},
   "outputs": [
    {
     "name": "stdout",
     "output_type": "stream",
     "text": [
      "Epoch 1/10\n",
      "106/106 [==============================] - 0s 411us/step - loss: 0.5708 - accuracy: 0.7257\n",
      "Epoch 2/10\n",
      "106/106 [==============================] - 0s 423us/step - loss: 0.4260 - accuracy: 0.8075\n",
      "Epoch 3/10\n",
      "106/106 [==============================] - 0s 426us/step - loss: 0.3335 - accuracy: 0.8590\n",
      "Epoch 4/10\n",
      "106/106 [==============================] - 0s 435us/step - loss: 0.2456 - accuracy: 0.9082\n",
      "Epoch 5/10\n",
      "106/106 [==============================] - 0s 440us/step - loss: 0.1693 - accuracy: 0.9449\n",
      "Epoch 6/10\n",
      "106/106 [==============================] - 0s 412us/step - loss: 0.1215 - accuracy: 0.9621\n",
      "Epoch 7/10\n",
      "106/106 [==============================] - 0s 425us/step - loss: 0.1048 - accuracy: 0.9609\n",
      "Epoch 8/10\n",
      "106/106 [==============================] - 0s 535us/step - loss: 0.0826 - accuracy: 0.9722\n",
      "Epoch 9/10\n",
      "106/106 [==============================] - 0s 476us/step - loss: 0.0544 - accuracy: 0.9846\n",
      "Epoch 10/10\n",
      "106/106 [==============================] - 0s 498us/step - loss: 0.0396 - accuracy: 0.9917\n",
      "14/14 [==============================] - 0s 295us/step\n",
      "\n",
      "Točnost prve neuronske mreže (bez Dropout-a): 99.05%\n"
     ]
    },
    {
     "data": {
      "image/png": "[encoded data removed]",
      "text/plain": [
       "<Figure size 600x400 with 1 Axes>"
      ]
     },
     "metadata": {},
     "output_type": "display_data"
    }
   ],
   "source": [
    "import numpy as np\n",
    "import keras\n",
    "from keras.models import Sequential\n",
    "from keras.layers import Dense\n",
    "from sklearn.metrics import accuracy_score, confusion_matrix\n",
    "import matplotlib.pyplot as plt\n",
    "import seaborn as sns\n",
    "\n",
    "# PRVA NEURONSKA MREŽA (BEZ DROPOUT-A)\n",
    "\n",
    "model1 = Sequential()\n",
    "model1.add(Dense(input_dim=X_train_scaled.shape[1], units=15))\n",
    "model1.add(Dense(units=35, activation='tanh'))\n",
    "model1.add(Dense(units=20, activation='relu'))\n",
    "model1.add(Dense(units=10, activation='relu'))\n",
    "model1.add(Dense(units=1, activation='sigmoid'))\n",
    "\n",
    "model1.compile(optimizer='adam', loss='binary_crossentropy', metrics=['accuracy'])\n",
    "model1.fit(X_train_scaled, y_train, batch_size=16, epochs=10, verbose=1)\n",
    "\n",
    "y_pred1 = (model1.predict(X_test_scaled) > 0.5).astype(int)\n",
    "y_pred1 = y_pred1.reshape(1, -1)[0]\n",
    "\n",
    "acc1 = accuracy_score(y_test, y_pred1)\n",
    "print(f\"\\nTočnost prve neuronske mreže (bez Dropout-a): {acc1:.2%}\")\n",
    "\n",
    "# Konfuzijska matrica\n",
    "cm1 = confusion_matrix(y_test, y_pred1)\n",
    "plt.figure(figsize=(6, 4))\n",
    "sns.heatmap(cm1, annot=True, fmt='d', cmap='Blues', cbar=False)\n",
    "plt.title(\"Konfuzijska matrica - Prva neuronska mreža (bez Dropout-a)\")\n",
    "plt.xlabel('Predviđeno')\n",
    "plt.ylabel('Stvarno')\n",
    "plt.show()\n",
    "\n"
   ]
  },
  {
   "cell_type": "code",
   "execution_count": 131,
   "id": "6f0d1e7b-eb61-4c4a-b0f7-68ffcf30b8bc",
   "metadata": {},
   "outputs": [
    {
     "name": "stdout",
     "output_type": "stream",
     "text": [
      "Epoch 1/20\n",
      "53/53 [==============================] - 0s 670us/step - loss: 0.6304 - accuracy: 0.6380\n",
      "Epoch 2/20\n",
      "53/53 [==============================] - 0s 608us/step - loss: 0.4695 - accuracy: 0.7778\n",
      "Epoch 3/20\n",
      "53/53 [==============================] - 0s 905us/step - loss: 0.3531 - accuracy: 0.8472\n",
      "Epoch 4/20\n",
      "53/53 [==============================] - 0s 581us/step - loss: 0.2832 - accuracy: 0.8786\n",
      "Epoch 5/20\n",
      "53/53 [==============================] - 0s 666us/step - loss: 0.2313 - accuracy: 0.9023\n",
      "Epoch 6/20\n",
      "53/53 [==============================] - 0s 1ms/step - loss: 0.1877 - accuracy: 0.9277\n",
      "Epoch 7/20\n",
      "53/53 [==============================] - 0s 625us/step - loss: 0.1746 - accuracy: 0.9301\n",
      "Epoch 8/20\n",
      "53/53 [==============================] - 0s 721us/step - loss: 0.1567 - accuracy: 0.9419\n",
      "Epoch 9/20\n",
      "53/53 [==============================] - 0s 568us/step - loss: 0.1333 - accuracy: 0.9473\n",
      "Epoch 10/20\n",
      "53/53 [==============================] - 0s 715us/step - loss: 0.1133 - accuracy: 0.9573\n",
      "Epoch 11/20\n",
      "53/53 [==============================] - 0s 684us/step - loss: 0.1288 - accuracy: 0.9479\n",
      "Epoch 12/20\n",
      "53/53 [==============================] - 0s 659us/step - loss: 0.0967 - accuracy: 0.9645\n",
      "Epoch 13/20\n",
      "53/53 [==============================] - 0s 605us/step - loss: 0.0857 - accuracy: 0.9656\n",
      "Epoch 14/20\n",
      "53/53 [==============================] - 0s 644us/step - loss: 0.1189 - accuracy: 0.9520\n",
      "Epoch 15/20\n",
      "53/53 [==============================] - 0s 641us/step - loss: 0.0812 - accuracy: 0.9716\n",
      "Epoch 16/20\n",
      "53/53 [==============================] - 0s 619us/step - loss: 0.0824 - accuracy: 0.9710\n",
      "Epoch 17/20\n",
      "53/53 [==============================] - 0s 625us/step - loss: 0.0733 - accuracy: 0.9727\n",
      "Epoch 18/20\n",
      "53/53 [==============================] - 0s 791us/step - loss: 0.0815 - accuracy: 0.9686\n",
      "Epoch 19/20\n",
      "53/53 [==============================] - 0s 593us/step - loss: 0.0898 - accuracy: 0.9639\n",
      "Epoch 20/20\n",
      "53/53 [==============================] - 0s 625us/step - loss: 0.0688 - accuracy: 0.9763\n",
      "14/14 [==============================] - 1s 408us/step\n",
      "\n",
      "Točnost druge neuronske mreže (sa Dropout-om): 99.29%\n"
     ]
    },
    {
     "data": {
      "image/png": "[encoded data removed]",
      "text/plain": [
       "<Figure size 600x400 with 1 Axes>"
      ]
     },
     "metadata": {},
     "output_type": "display_data"
    }
   ],
   "source": [
    "import numpy as np\n",
    "import keras\n",
    "from keras.models import Sequential\n",
    "from keras.layers import Dense, Dropout\n",
    "from sklearn.metrics import accuracy_score, confusion_matrix\n",
    "import matplotlib.pyplot as plt\n",
    "import seaborn as sns\n",
    "\n",
    "# DRUGA NEURONSKA MREŽA (SA DROPOUT-OM)\n",
    "\n",
    "# Definicija mreže\n",
    "model2 = Sequential()\n",
    "model2.add(Dense(input_dim=X_train_scaled.shape[1], units=128))\n",
    "model2.add(Dropout(0.3))\n",
    "model2.add(Dense(units=64, activation='tanh'))\n",
    "model2.add(Dropout(0.3))\n",
    "model2.add(Dense(units=32, activation='relu'))\n",
    "model2.add(Dropout(0.3))\n",
    "model2.add(Dense(units=1, activation='sigmoid'))\n",
    "\n",
    "model2.compile(optimizer='adam', loss='binary_crossentropy', metrics=['accuracy'])\n",
    "model2.fit(X_train_scaled, y_train, batch_size=32, epochs=20, verbose=1)\n",
    "\n",
    "y_pred2 = (model2.predict(X_test_scaled) > 0.5).astype(int)\n",
    "y_pred2 = y_pred2.reshape(1, -1)[0]\n",
    "\n",
    "acc2 = accuracy_score(y_test, y_pred2)\n",
    "print(f\"\\nTočnost druge neuronske mreže (sa Dropout-om): {acc2:.2%}\")\n",
    "\n",
    "# Konfuzijska matrica\n",
    "cm2 = confusion_matrix(y_test, y_pred2)\n",
    "plt.figure(figsize=(6, 4))\n",
    "sns.heatmap(cm2, annot=True, fmt='d', cmap='Blues', cbar=False)\n",
    "plt.title(\"Konfuzijska matrica - Druga neuronska mreža (sa Dropout-om)\")\n",
    "plt.xlabel('Predviđeno')\n",
    "plt.ylabel('Stvarno')\n",
    "plt.show()\n"
   ]
  },
  {
   "cell_type": "code",
   "execution_count": null,
   "id": "e10f4b9c-2fd9-4880-8deb-95122fccc6b9",
   "metadata": {},
   "outputs": [],
   "source": []
  },
  {
   "cell_type": "code",
   "execution_count": null,
   "id": "3d424208-7b15-459c-b632-403c4dc89277",
   "metadata": {},
   "outputs": [],
   "source": []
  },
  {
   "cell_type": "code",
   "execution_count": null,
   "id": "ceae3936-7743-4920-a0cd-afecb905f353",
   "metadata": {},
   "outputs": [],
   "source": []
  }
 ],
 "metadata": {
  "kernelspec": {
   "display_name": "Python 3 (ipykernel)",
   "language": "python",
   "name": "python3"
  },
  "language_info": {
   "codemirror_mode": {
    "name": "ipython",
    "version": 3
   },
   "file_extension": ".py",
   "mimetype": "text/x-python",
   "name": "python",
   "nbconvert_exporter": "python",
   "pygments_lexer": "ipython3",
   "version": "3.8.18"
  }
 },
 "nbformat": 4,
 "nbformat_minor": 5
}
